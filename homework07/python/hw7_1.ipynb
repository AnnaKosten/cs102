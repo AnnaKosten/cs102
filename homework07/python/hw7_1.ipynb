{
  "nbformat": 4,
  "nbformat_minor": 0,
  "metadata": {
    "colab": {
      "name": "hw7.1",
      "provenance": [],
      "collapsed_sections": []
    },
    "kernelspec": {
      "name": "python3",
      "display_name": "Python 3"
    },
    "language_info": {
      "name": "python"
    }
  },
  "cells": [
    {
      "cell_type": "code",
      "metadata": {
        "colab": {
          "base_uri": "https://localhost:8080/",
          "height": 383
        },
        "id": "xBapIYmrGCB4",
        "outputId": "58829aa2-142c-44e3-95c1-2d9963c19036"
      },
      "source": [
        "import pandas as pd\n",
        "import matplotlib.pyplot as plt\n",
        "import numpy as np\n",
        "data = pd.read_csv(\"adult_data.csv\")\n",
        "data.head()\n"
      ],
      "execution_count": null,
      "outputs": [
        {
          "output_type": "execute_result",
          "data": {
            "text/html": [
              "<div>\n",
              "<style scoped>\n",
              "    .dataframe tbody tr th:only-of-type {\n",
              "        vertical-align: middle;\n",
              "    }\n",
              "\n",
              "    .dataframe tbody tr th {\n",
              "        vertical-align: top;\n",
              "    }\n",
              "\n",
              "    .dataframe thead th {\n",
              "        text-align: right;\n",
              "    }\n",
              "</style>\n",
              "<table border=\"1\" class=\"dataframe\">\n",
              "  <thead>\n",
              "    <tr style=\"text-align: right;\">\n",
              "      <th></th>\n",
              "      <th>age</th>\n",
              "      <th>workclass</th>\n",
              "      <th>fnlwgt</th>\n",
              "      <th>education</th>\n",
              "      <th>education-num</th>\n",
              "      <th>marital-status</th>\n",
              "      <th>occupation</th>\n",
              "      <th>relationship</th>\n",
              "      <th>race</th>\n",
              "      <th>sex</th>\n",
              "      <th>capital-gain</th>\n",
              "      <th>capital-loss</th>\n",
              "      <th>hours-per-week</th>\n",
              "      <th>native-country</th>\n",
              "      <th>salary</th>\n",
              "    </tr>\n",
              "  </thead>\n",
              "  <tbody>\n",
              "    <tr>\n",
              "      <th>0</th>\n",
              "      <td>39</td>\n",
              "      <td>State-gov</td>\n",
              "      <td>77516</td>\n",
              "      <td>Bachelors</td>\n",
              "      <td>13</td>\n",
              "      <td>Never-married</td>\n",
              "      <td>Adm-clerical</td>\n",
              "      <td>Not-in-family</td>\n",
              "      <td>White</td>\n",
              "      <td>Male</td>\n",
              "      <td>2174</td>\n",
              "      <td>0</td>\n",
              "      <td>40</td>\n",
              "      <td>United-States</td>\n",
              "      <td>&lt;=50K</td>\n",
              "    </tr>\n",
              "    <tr>\n",
              "      <th>1</th>\n",
              "      <td>50</td>\n",
              "      <td>Self-emp-not-inc</td>\n",
              "      <td>83311</td>\n",
              "      <td>Bachelors</td>\n",
              "      <td>13</td>\n",
              "      <td>Married-civ-spouse</td>\n",
              "      <td>Exec-managerial</td>\n",
              "      <td>Husband</td>\n",
              "      <td>White</td>\n",
              "      <td>Male</td>\n",
              "      <td>0</td>\n",
              "      <td>0</td>\n",
              "      <td>13</td>\n",
              "      <td>United-States</td>\n",
              "      <td>&lt;=50K</td>\n",
              "    </tr>\n",
              "    <tr>\n",
              "      <th>2</th>\n",
              "      <td>38</td>\n",
              "      <td>Private</td>\n",
              "      <td>215646</td>\n",
              "      <td>HS-grad</td>\n",
              "      <td>9</td>\n",
              "      <td>Divorced</td>\n",
              "      <td>Handlers-cleaners</td>\n",
              "      <td>Not-in-family</td>\n",
              "      <td>White</td>\n",
              "      <td>Male</td>\n",
              "      <td>0</td>\n",
              "      <td>0</td>\n",
              "      <td>40</td>\n",
              "      <td>United-States</td>\n",
              "      <td>&lt;=50K</td>\n",
              "    </tr>\n",
              "    <tr>\n",
              "      <th>3</th>\n",
              "      <td>53</td>\n",
              "      <td>Private</td>\n",
              "      <td>234721</td>\n",
              "      <td>11th</td>\n",
              "      <td>7</td>\n",
              "      <td>Married-civ-spouse</td>\n",
              "      <td>Handlers-cleaners</td>\n",
              "      <td>Husband</td>\n",
              "      <td>Black</td>\n",
              "      <td>Male</td>\n",
              "      <td>0</td>\n",
              "      <td>0</td>\n",
              "      <td>40</td>\n",
              "      <td>United-States</td>\n",
              "      <td>&lt;=50K</td>\n",
              "    </tr>\n",
              "    <tr>\n",
              "      <th>4</th>\n",
              "      <td>28</td>\n",
              "      <td>Private</td>\n",
              "      <td>338409</td>\n",
              "      <td>Bachelors</td>\n",
              "      <td>13</td>\n",
              "      <td>Married-civ-spouse</td>\n",
              "      <td>Prof-specialty</td>\n",
              "      <td>Wife</td>\n",
              "      <td>Black</td>\n",
              "      <td>Female</td>\n",
              "      <td>0</td>\n",
              "      <td>0</td>\n",
              "      <td>40</td>\n",
              "      <td>Cuba</td>\n",
              "      <td>&lt;=50K</td>\n",
              "    </tr>\n",
              "  </tbody>\n",
              "</table>\n",
              "</div>"
            ],
            "text/plain": [
              "   age         workclass  fnlwgt  ... hours-per-week  native-country salary\n",
              "0   39         State-gov   77516  ...             40   United-States  <=50K\n",
              "1   50  Self-emp-not-inc   83311  ...             13   United-States  <=50K\n",
              "2   38           Private  215646  ...             40   United-States  <=50K\n",
              "3   53           Private  234721  ...             40   United-States  <=50K\n",
              "4   28           Private  338409  ...             40            Cuba  <=50K\n",
              "\n",
              "[5 rows x 15 columns]"
            ]
          },
          "metadata": {
            "tags": []
          },
          "execution_count": 5
        }
      ]
    },
    {
      "cell_type": "markdown",
      "metadata": {
        "id": "8Wjo7SECGZCT"
      },
      "source": [
        ""
      ]
    },
    {
      "cell_type": "code",
      "metadata": {
        "id": "c1dN7ZrPGboP"
      },
      "source": [
        "\n",
        "1. Сколько мужчин и женщин (признак sex) представлено в этом наборе данных?"
      ],
      "execution_count": null,
      "outputs": []
    },
    {
      "cell_type": "code",
      "metadata": {
        "colab": {
          "base_uri": "https://localhost:8080/"
        },
        "id": "ZxKOER1QGfMT",
        "outputId": "10e1ac17-742e-48e9-81c6-342f61790961"
      },
      "source": [
        "data['sex'].value_counts()\n"
      ],
      "execution_count": null,
      "outputs": [
        {
          "output_type": "execute_result",
          "data": {
            "text/plain": [
              "Male      21790\n",
              "Female    10771\n",
              "Name: sex, dtype: int64"
            ]
          },
          "metadata": {
            "tags": []
          },
          "execution_count": 6
        }
      ]
    },
    {
      "cell_type": "markdown",
      "metadata": {
        "id": "rVMKHAOtaJdu"
      },
      "source": [
        "2. Каков средний возраст (признак age) женщин?"
      ]
    },
    {
      "cell_type": "code",
      "metadata": {
        "id": "wLlRoh7-Hbc6"
      },
      "source": [
        "women[\"age\"].mean()\n"
      ],
      "execution_count": null,
      "outputs": []
    },
    {
      "cell_type": "markdown",
      "metadata": {
        "id": "VmJ9bZBOaSqR"
      },
      "source": [
        "3. Какова доля граждан Германии (признак native-country)?"
      ]
    },
    {
      "cell_type": "code",
      "metadata": {
        "colab": {
          "base_uri": "https://localhost:8080/"
        },
        "id": "jrFAaxlXMUMt",
        "outputId": "f111c20c-7242-4028-a9ee-0d9c4e61c74b"
      },
      "source": [
        "germans = (data[\"native-country\"] == \"Germany\").sum()\n",
        "people = data.shape [0]\n",
        "float(germans / people)"
      ],
      "execution_count": null,
      "outputs": [
        {
          "output_type": "execute_result",
          "data": {
            "text/plain": [
              "0.004207487485028101"
            ]
          },
          "metadata": {
            "tags": []
          },
          "execution_count": 7
        }
      ]
    },
    {
      "cell_type": "markdown",
      "metadata": {
        "id": "WKMqZAHeaV6A"
      },
      "source": [
        "4-5. Каковы средние значения и среднеквадратичные отклонения возраста тех, кто получает более 50K в год (признак salary) и тех, кто получает менее 50K в год?\n"
      ]
    },
    {
      "cell_type": "code",
      "metadata": {
        "colab": {
          "base_uri": "https://localhost:8080/"
        },
        "id": "Glf_6UpmPtSt",
        "outputId": "13ada835-1cf6-4185-bc38-51ff2f7207ba"
      },
      "source": [
        "avrich = data.loc[data[\"salary\"] == \">50K\"]['age'].mean()\n",
        "stdrich = data.loc[data[\"salary\"] == \">50K\"]['age'].std(ddof=0)\n",
        "avpoor = data.loc[data[\"salary\"] == \"<=50K\"]['age'].mean()\n",
        "stdpoor = data.loc[data[\"salary\"] == \"<=50K\"]['age'].std(ddof=0)\n",
        "print(avrich, stdrich, avpoor, stdpoor, sep=\"\\n\")"
      ],
      "execution_count": null,
      "outputs": [
        {
          "output_type": "stream",
          "text": [
            "44.24984058155847\n",
            "10.518356927661575\n",
            "36.78373786407767\n",
            "14.019804910115214\n"
          ],
          "name": "stdout"
        }
      ]
    },
    {
      "cell_type": "markdown",
      "metadata": {
        "id": "hvucR-qIad29"
      },
      "source": [
        "6. Правда ли, что люди, которые получают больше 50k, имеют как минимум высшее образование? (признак education – Bachelors, Prof-school, Assoc-acdm, Assoc-voc, Masters или Doctorate)\n",
        "\n"
      ]
    },
    {
      "cell_type": "code",
      "metadata": {
        "id": "CA9vSdByR95q",
        "colab": {
          "base_uri": "https://localhost:8080/"
        },
        "outputId": "d18b1e35-fc95-46f8-ee59-811e8654e9b4"
      },
      "source": [
        "education = np.array([\"Bachelors\", \"Prof-school\", \"Assoc-acdm\", \"Assoc-voc\", \"Masters\", \"Doctorate\"])\n",
        "salary = data[data['salary'] == '>50K']['education'].unique()\n",
        "np.array_equal(education, salary, equal_nan=False)"
      ],
      "execution_count": null,
      "outputs": [
        {
          "output_type": "execute_result",
          "data": {
            "text/plain": [
              "False"
            ]
          },
          "metadata": {
            "tags": []
          },
          "execution_count": 9
        }
      ]
    },
    {
      "cell_type": "markdown",
      "metadata": {
        "id": "4o7iWTLbaiQJ"
      },
      "source": [
        "7. Выведите статистику возраста для каждой расы (признак race) и каждого пола. Используйте groupby и describe. Найдите таким образом максимальный возраст мужчин расы Amer-Indian-Eskimo."
      ]
    },
    {
      "cell_type": "code",
      "metadata": {
        "id": "WFHiS8AjXB12"
      },
      "source": [
        "for (race, sex), sub_df in data.groupby(['race', 'sex']):\n",
        "    print(\"race: {0}, sex: {1}\".format(race, sex))\n",
        "    print(sub_df['age'].describe())"
      ],
      "execution_count": null,
      "outputs": []
    },
    {
      "cell_type": "markdown",
      "metadata": {
        "id": "aCjO1ejZamR9"
      },
      "source": [
        "8. Среди кого больше доля зарабатывающих много (>50K): среди женатых или холостых мужчин (признак marital-status)? Женатыми считаем тех, у кого marital-status начинается с Married (Married-civ-spouse, Married-spouse-absent или Married-AF-spouse), остальных считаем холостыми."
      ]
    },
    {
      "cell_type": "code",
      "metadata": {
        "colab": {
          "base_uri": "https://localhost:8080/"
        },
        "id": "GVInUmvWYNF3",
        "outputId": "b38be3c3-86fb-4ef6-aae0-48fa88f53d17"
      },
      "source": [
        "richm = data[(data[\"sex\"] == \"Male\") & (data[\"marital-status\"].str.startswith('Married'))] ['salary'].value_counts()[1]\n",
        "richnm = data[(data[\"sex\"] == \"Male\") & (data[\"marital-status\"].isin(['Never-married', 'Separated', 'Divorced']))] ['salary'].value_counts()[1]\n",
        "men = (data[\"sex\"] == 'Male').sum()\n",
        "print('Доля женатых, зарабатывающих >50k:', richm/men)\n",
        "print('Доля холостых, зарабатывающих >50k:', richnm/men)"
      ],
      "execution_count": null,
      "outputs": [
        {
          "output_type": "stream",
          "text": [
            "Доля женатых, зарабатывающих >50k: 0.2737494263423589\n",
            "Доля холостых, зарабатывающих >50k: 0.030197338228545204\n"
          ],
          "name": "stdout"
        }
      ]
    },
    {
      "cell_type": "markdown",
      "metadata": {
        "id": "WsHa8QNyapLn"
      },
      "source": [
        "9. Какое максимальное число часов человек работает в неделю (признак hours-per-week)? Сколько людей работают такое количество часов и каков среди них процент зарабатывающих много?"
      ]
    },
    {
      "cell_type": "code",
      "metadata": {
        "colab": {
          "base_uri": "https://localhost:8080/"
        },
        "id": "fWaILos4d522",
        "outputId": "b9a91972-c6c2-4a08-aebb-909add7c8435"
      },
      "source": [
        "maxh = data['hours-per-week'].max()\n",
        "workers = (data['hours-per-week'] == maxh).sum()\n",
        "rich_workers = data[(data['hours-per-week'] == maxh)] ['salary'].value_counts()[1]\n",
        "print('Максимальное кол-во часов в неделю:', maxh)\n",
        "print('Количество работяг:', workers)\n",
        "print(\"Процент богатых работяг:\", ((rich_workers/workers) * 100),'%')"
      ],
      "execution_count": null,
      "outputs": [
        {
          "output_type": "stream",
          "text": [
            "Максимальное кол-во часов в неделю: 99\n",
            "Количество работяг: 85\n",
            "Процент богатых работяг: 29.411764705882355 %\n"
          ],
          "name": "stdout"
        }
      ]
    },
    {
      "cell_type": "markdown",
      "metadata": {
        "id": "Xamb1_nKar0r"
      },
      "source": [
        "10. Посчитайте среднее время работы (hours-per-week) зарабатывающих мало и много (salary) для каждой страны (native-country)."
      ]
    },
    {
      "cell_type": "code",
      "metadata": {
        "colab": {
          "base_uri": "https://localhost:8080/"
        },
        "id": "gc4YbX8zhK0u",
        "outputId": "c1229cc9-28c5-43ce-e6bc-49fb3b04a6a1"
      },
      "source": [
        "for (country, salary), sub_df in data.groupby(['native-country', 'salary']):\n",
        "    print(country, salary, round(sub_df['hours-per-week'].mean(), 2))"
      ],
      "execution_count": null,
      "outputs": [
        {
          "output_type": "stream",
          "text": [
            "? <=50K 40.16\n",
            "? >50K 45.55\n",
            "Cambodia <=50K 41.42\n",
            "Cambodia >50K 40.0\n",
            "Canada <=50K 37.91\n",
            "Canada >50K 45.64\n",
            "China <=50K 37.38\n",
            "China >50K 38.9\n",
            "Columbia <=50K 38.68\n",
            "Columbia >50K 50.0\n",
            "Cuba <=50K 37.99\n",
            "Cuba >50K 42.44\n",
            "Dominican-Republic <=50K 42.34\n",
            "Dominican-Republic >50K 47.0\n",
            "Ecuador <=50K 38.04\n",
            "Ecuador >50K 48.75\n",
            "El-Salvador <=50K 36.03\n",
            "El-Salvador >50K 45.0\n",
            "England <=50K 40.48\n",
            "England >50K 44.53\n",
            "France <=50K 41.06\n",
            "France >50K 50.75\n",
            "Germany <=50K 39.14\n",
            "Germany >50K 44.98\n",
            "Greece <=50K 41.81\n",
            "Greece >50K 50.62\n",
            "Guatemala <=50K 39.36\n",
            "Guatemala >50K 36.67\n",
            "Haiti <=50K 36.33\n",
            "Haiti >50K 42.75\n",
            "Holand-Netherlands <=50K 40.0\n",
            "Honduras <=50K 34.33\n",
            "Honduras >50K 60.0\n",
            "Hong <=50K 39.14\n",
            "Hong >50K 45.0\n",
            "Hungary <=50K 31.3\n",
            "Hungary >50K 50.0\n",
            "India <=50K 38.23\n",
            "India >50K 46.48\n",
            "Iran <=50K 41.44\n",
            "Iran >50K 47.5\n",
            "Ireland <=50K 40.95\n",
            "Ireland >50K 48.0\n",
            "Italy <=50K 39.62\n",
            "Italy >50K 45.4\n",
            "Jamaica <=50K 38.24\n",
            "Jamaica >50K 41.1\n",
            "Japan <=50K 41.0\n",
            "Japan >50K 47.96\n",
            "Laos <=50K 40.38\n",
            "Laos >50K 40.0\n",
            "Mexico <=50K 40.0\n",
            "Mexico >50K 46.58\n",
            "Nicaragua <=50K 36.09\n",
            "Nicaragua >50K 37.5\n",
            "Outlying-US(Guam-USVI-etc) <=50K 41.86\n",
            "Peru <=50K 35.07\n",
            "Peru >50K 40.0\n",
            "Philippines <=50K 38.07\n",
            "Philippines >50K 43.03\n",
            "Poland <=50K 38.17\n",
            "Poland >50K 39.0\n",
            "Portugal <=50K 41.94\n",
            "Portugal >50K 41.5\n",
            "Puerto-Rico <=50K 38.47\n",
            "Puerto-Rico >50K 39.42\n",
            "Scotland <=50K 39.44\n",
            "Scotland >50K 46.67\n",
            "South <=50K 40.16\n",
            "South >50K 51.44\n",
            "Taiwan <=50K 33.77\n",
            "Taiwan >50K 46.8\n",
            "Thailand <=50K 42.87\n",
            "Thailand >50K 58.33\n",
            "Trinadad&Tobago <=50K 37.06\n",
            "Trinadad&Tobago >50K 40.0\n",
            "United-States <=50K 38.8\n",
            "United-States >50K 45.51\n",
            "Vietnam <=50K 37.19\n",
            "Vietnam >50K 39.2\n",
            "Yugoslavia <=50K 41.6\n",
            "Yugoslavia >50K 49.5\n"
          ],
          "name": "stdout"
        }
      ]
    }
  ]
}